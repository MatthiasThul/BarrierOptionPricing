{
 "cells": [
  {
   "cell_type": "markdown",
   "metadata": {},
   "source": [
    "# Single Barrier Option Pricing & Applications to Leveraged (Turbo) Certificates"
   ]
  },
  {
   "cell_type": "markdown",
   "metadata": {},
   "source": [
    "## Introduction\n",
    "\n",
    "This notebook contains the valuation functions for single barrier options within the Black and Scholes (1973) framework. The risk-neutral dynamics of the underlying asset are given by\n",
    "\n",
    "\\begin{equation*}\n",
    "\\mathrm{d}S_t = (r - \\delta) S_t \\mathrm{d}t + \\sigma S_t \\mathrm{d}W_t.\n",
    "\\end{equation*}\n",
    "\n",
    "I employ the method of images applied to one-dimensional power binary options as the basic building blocks. The main references in the context of single barrier options are Wilmott et al. (1995), Buchen (2001) and Konstandatos (2003).\n",
    "\n",
    "The notation in this notebook closely follows the one in my Ph.D. dissertation Thul (2013) and the paper Zhang and Thul (2017)."
   ]
  },
  {
   "cell_type": "markdown",
   "metadata": {},
   "source": [
    "## References\n",
    "\n",
    "Buchen, Peter W. (2001) \"Image Options and the Road to Barriers,\" *Risk Magazine*, Vol. 14, No. 9, pp. 127-130\n",
    "\n",
    "Konstandatos, Otto (2003) \"A New Framework for Pricing Barrier and Lookback Options,\" Ph.D. Dissertation, University of Sydney, \n",
    "\n",
    "Thul, Matthias (2013) \"Characterizations of and Closed-Form Solutions for Plain Vanilla and Exotic Derivatives,\" Ph.D. Dissertation, University of New South Wales, [available online](http://handle.unsw.edu.au/1959.4/57323)\n",
    "\n",
    "Zhang, Ally Quan and Matthias Thul (2017) \"How Much is the Gap? Efficient Jump-Risk Adjusted Valuation of Leverage Certificates,\" *Quantitative Finance*, forthcoming, [available on SSRN](https://ssrn.com/abstract=2388734)\n",
    "\n",
    "Wilmott, Paul, Sam Howison, and Jeff Dewynne (1995) *The Mathematics of Financial Derivatives*: Cambridge University Press"
   ]
  },
  {
   "cell_type": "code",
   "execution_count": 32,
   "metadata": {
    "collapsed": true
   },
   "outputs": [],
   "source": [
    "import numpy\n",
    "import scipy.stats as stats"
   ]
  },
  {
   "cell_type": "markdown",
   "metadata": {},
   "source": [
    "## First Order Binary Option Pricing Functions\n",
    "\n",
    "The payoff of a first order power binary option with exponent $\\eta \\in \\mathbb{R}$ is given by\n",
    "\n",
    "\\begin{equation*}\n",
    "{^\\eta \\mathcal{P}_\\xi^s(S, 0)} = S^\\eta \\mathrm{1} \\{ s S > s \\xi \\}.\n",
    "\\end{equation*}\n",
    "\n",
    "Here, $\\xi \\in \\mathbb{R}_+$ is the strike price and $s \\in \\{ -1, +1 \\}$ indicates a put or call option, respectively. Its valuation function is given by\n",
    "\n",
    "\\begin{equation*}\n",
    "{^\\eta \\mathcal{P}_\\xi^s(S, \\tau)} = F_\\eta \\mathcal{N} \\left( s d_\\eta \\right),\n",
    "\\end{equation*}\n",
    "\n",
    "where\n",
    "\n",
    "\\begin{eqnarray*}\n",
    "F_\\eta & = & S^\\tau \\exp \\left\\{ \\left( (\\eta - 1) \\left( r + \\frac{1}{2} \\eta \\sigma^2 \\right) - \\eta \\delta \\right) \\tau \\right\\}\\\\\n",
    "d_\\eta & = & \\frac{1}{\\sigma \\sqrt{\\tau}} \\left( \\ln \\left( \\frac{S}{\\xi} \\right) + \\left( r - \\delta + \\left( \\eta - \\frac{1}{2} \\right) \\sigma^2 \\right) \\tau \\right).\n",
    "\\end{eqnarray*}\n",
    "\n",
    "These are special cases of Definition B.1 and Proposition B.1 in Zhang and Thul (2017). We refer to the special cases of $\\eta = 1$ and $\\eta = 0$ as asset and bond binary options. The delta is given by\n",
    "\n",
    "\\begin{equation*}\n",
    "\\frac{\\partial}{\\partial S} {^\\eta \\mathcal{P}_\\xi^s(S, \\tau)} = \\frac{F_\\eta}{S} \\left( \\mathcal{N} \\left( s d_\\eta \\right) \\mathrm{1} \\{ \\eta \\neq 0 \\} + \\frac{s}{\\sigma \\sqrt{\\tau}} \\mathcal{N}' \\left( s d_\\eta \\right) \\right).\n",
    "\\end{equation*}"
   ]
  },
  {
   "cell_type": "code",
   "execution_count": 102,
   "metadata": {
    "collapsed": true
   },
   "outputs": [],
   "source": [
    "def powerBinary(maturity, eta, xi, phi, spot, rate, dividend, volatility):\n",
    "    totalVolatility = volatility * numpy.sqrt(maturity)\n",
    "    dValue = (numpy.log(spot / xi) + (rate - dividend + (eta - 0.5) * volatility**2) * maturity) / totalVolatility\n",
    "    dCDF = stats.norm.cdf(phi * dValue)\n",
    "    discountedForward = numpy.power(spot, eta) * numpy.exp(((eta - 1.0) * (rate + 0.5 * eta * volatility**2) - eta * dividend) * maturity)\n",
    "    value = discountedForward * dCDF\n",
    "    derivative = discountedForward / spot * (dCDF * (eta != 0.0) + phi * stats.norm.pdf(phi * dValue) / totalVolatility)\n",
    "    return (value, derivative)\n",
    "\n",
    "def assetBinary(maturity, xi, phi, spot, rate, dividend, volatility):\n",
    "    return powerBinary(maturity, 1.0, xi, phi, spot, rate, dividend, volatility)\n",
    "\n",
    "def bondBinary(maturity, xi, phi, spot, rate, dividend, volatility):\n",
    "    return powerBinary(maturity, 0.0, xi, phi, spot, rate, dividend, volatility)"
   ]
  },
  {
   "cell_type": "markdown",
   "metadata": {},
   "source": [
    "# Image Operator\n",
    "\n",
    "The image of the valuation function $\\tilde{V}(S, \\tau)$ around the barrier $B \\in \\mathbb{R}_+$ is defined as\n",
    "\n",
    "\\begin{equation*}\n",
    "\\stackrel{B}{\\mathcal{I}} \\left\\{ \\tilde{V}(S, \\tau) \\right\\} = \\left( \\frac{S}{B} \\right)^{2 \\alpha} \\tilde{V} \\left( \\frac{B^2}{S}, \\tau \\right),\n",
    "\\end{equation*}\n",
    "\n",
    "where\n",
    "\n",
    "\\begin{equation*}\n",
    "\\alpha = \\frac{1}{2} - \\frac{r - \\delta}{\\sigma^2}.\n",
    "\\end{equation*}\n",
    "\n",
    "The delta of the image operator is given by\n",
    "\n",
    "\\begin{equation*}\n",
    "\\frac{\\partial}{\\partial S} \\stackrel{B}{\\mathcal{I}} \\left\\{ \\tilde{V}(S, \\tau) \\right\\} = \\left( \\frac{S}{B} \\right)^{2 \\alpha} \\left( \\frac{2 \\alpha}{S} \\tilde{V} \\left( \\frac{B^2}{S}, \\tau \\right) - \\frac{B^2}{S^2} \\frac{\\partial \\tilde{V}}{\\partial S} \\left( \\frac{B^2}{S}, \\tau \\right) \\right).\n",
    "\\end{equation*}"
   ]
  },
  {
   "cell_type": "code",
   "execution_count": 98,
   "metadata": {
    "collapsed": true
   },
   "outputs": [],
   "source": [
    "def imageOperator(valueFunction, barrier, spot, rate, dividend, volatility):\n",
    "    alpha = 0.5 - (rate - dividend) / volatility**2\n",
    "    imageFactor = (spot / barrier)**(2.0 * alpha)\n",
    "    value, derivative = valueFunction(barrier**2 / spot)\n",
    "    value2 = imageFactor * value\n",
    "    derivative2 = imageFactor * (2.0 * alpha / spot * value - (barrier / spot)**2 * derivative)\n",
    "    return (value2, derivative2)"
   ]
  },
  {
   "cell_type": "markdown",
   "metadata": {},
   "source": [
    "## Pay-at-Hit Rebate Valuation\n",
    "\n",
    "A pay-at-hit rebate option has a unit payoff upon the first hitting time of $S$ to some barrier $B \\in \\mathbb{R}_+$. Its valuation function is given by\n",
    "\n",
    "\\begin{equation*}\n",
    "\\mathcal{R}_B^\\psi(S, \\tau) = \\mathcal{U}_B^\\psi(S) - B^{-\\beta(-\\psi)} \\left( {^{\\beta(-\\psi)} \\mathcal{P}_B^\\psi} (S, \\tau) - \\stackrel{B}{\\mathcal{I}} \\left\\{ {^{\\beta(-\\psi)} \\mathcal{P}_B^\\psi} (S, \\tau) \\right\\} \\right),\n",
    "\\end{equation*}\n",
    "\n",
    "where\n",
    "\n",
    "\\begin{eqnarray*}\n",
    "\\mathcal{U}_B^\\psi(S) & = & \\left( \\frac{S}{B} \\right)^{\\beta(-\\psi)}, \\\\\n",
    "\\beta(\\psi) & = & \\alpha + \\psi \\sqrt{\\lambda + \\alpha^2},\\\\\n",
    "\\lambda & = & \\frac{2 r}{\\sigma^2}\n",
    "\\end{eqnarray*}\n",
    "\n",
    "and $\\psi \\in \\{ -1, +1 \\}$ indicates an upper or lower barrier, respectively; see Definition C.2 and Proposition C.2 in Zhang and Thul (2017).\n",
    "\n",
    "Note that we need to check that the term under the square root in the expression for $\\beta$ is non-negative. This can arise when e.g. the interest rate is sufficiently negative. See e.g. Le Floc'h (2015) for remedies.\n",
    "\n",
    "## References\n",
    "\n",
    "Le Floc'h, Fabien (2015) \"Barrier Options Under Negative Rates in Black-Scholes,\" Working Paper"
   ]
  },
  {
   "cell_type": "code",
   "execution_count": 99,
   "metadata": {
    "collapsed": true
   },
   "outputs": [],
   "source": [
    "def payAtHitRebate(maturity, barrier, psi, spot, rate, dividend, volatility):\n",
    "    if (psi * spot <= psi * barrier):\n",
    "        return (1.0, 0.0)\n",
    "    alpha = 0.5 - (rate - dividend) / volatility**2\n",
    "    if (2.0 * rate / volatility**2 + alpha**2 < 0.0):\n",
    "        raise Exception(\"unsupported rate/dividend/volatility combination\")\n",
    "    beta = alpha - psi * numpy.sqrt(2.0 * rate / volatility**2 + alpha**2)\n",
    "    value = numpy.power(spot / barrier, beta)\n",
    "    derivative = value / spot * beta\n",
    "    valueFunction = lambda spot: powerBinary(maturity, beta, barrier, psi, spot, rate, dividend, volatility)\n",
    "    value2, derivative2 = valueFunction(spot)\n",
    "    value3, derivative3 = imageOperator(valueFunction, barrier, spot, rate, dividend, volatility)\n",
    "    barrierPower = numpy.power(barrier, -beta)\n",
    "    return (value - barrierPower * (value2 - value3), derivative - barrierPower * (derivative2 - derivative3))"
   ]
  },
  {
   "cell_type": "markdown",
   "metadata": {},
   "source": [
    "## Leveraged Certificates\n",
    "\n",
    "We give an example of how to use the above formulas to price a leveraged (turbo) certificate. These are essentially out-barrier options with an at- or in-the-money barrier. Their rebate is equal to the instrinsic value upon the knock-out. The valuation function is given by\n",
    "\n",
    "\\begin{eqnarray*}\n",
    "\\tilde{V}(S, \\tau) & = & \\phi \\left( \\mathcal{A}_B^\\phi(S, \\tau) - K \\mathcal{B}_B^\\phi(S, \\tau) - \\stackrel{B}{\\mathcal{I}} \\left\\{ \\mathcal{A}_B^\\phi(S, \\tau) - K \\mathcal{B}_B^\\phi(S, \\tau) \\right\\} \\right)\\\\\n",
    "& & + \\phi (B - K) \\mathcal{R}_B^\\phi(S, \\tau);\n",
    "\\end{eqnarray*}\n",
    "\n",
    "see Proposition 2.1 in Zhang and Thul (2017)."
   ]
  },
  {
   "cell_type": "code",
   "execution_count": 105,
   "metadata": {
    "collapsed": true
   },
   "outputs": [],
   "source": [
    "def leveragedCertificate(maturity, strike, barrier, phi, spot, rate, dividend, volatility):\n",
    "    if (phi * strike > phi * barrier):\n",
    "        raise Exception(\"barrier has to be at- or in-the-money\")\n",
    "    if (phi * spot <= phi * barrier):\n",
    "        return (numpy.maximum(phi * (spot - strike), 0.0), 0.0)\n",
    "    def valueFunction(spot):\n",
    "        value, derivative = assetBinary(maturity, barrier, phi, spot, rate, dividend, volatility)\n",
    "        value2, derivative2 = bondBinary(maturity, barrier, phi, spot, rate, dividend, volatility)\n",
    "        return (value - strike * value2, derivative - strike * derivative2)\n",
    "    value, derivative = valueFunction(spot)\n",
    "    value2, derivative2 = imageOperator(valueFunction, barrier, spot, rate, dividend, volatility)\n",
    "    value3, derivative3 = payAtHitRebate(maturity, barrier, phi, spot, rate, dividend, volatility)\n",
    "    return (phi * (value - value2 + (barrier - strike) * value3), phi * (derivative - derivative2 + (barrier - strike) * derivative3))"
   ]
  },
  {
   "cell_type": "markdown",
   "metadata": {},
   "source": [
    "## Unit Tests\n",
    "\n",
    "For the special case when $r = \\delta = 0$, the value of the leveraged certificate is always equal to the intrinsic value. We run a few tests to check this."
   ]
  },
  {
   "cell_type": "code",
   "execution_count": 107,
   "metadata": {
    "collapsed": false
   },
   "outputs": [],
   "source": [
    "def testLeveragedCertificate():\n",
    "    testCases = [{'barrier': 100.0, 'isCall': True, 'spots': [101.0, 102.0, 105.0, 110.0]},\n",
    "                 {'barrier': 100.0, 'isCall': False, 'spots': [99.0, 98.0, 95.0, 90.0]},\n",
    "                 {'barrier': 101.0, 'isCall': True, 'spots': [102.0, 105.0, 110.0]},\n",
    "                 {'barrier': 99.0, 'isCall': False, 'spots': [98.0, 95.0, 90.0]}]\n",
    "    for testCase in testCases:\n",
    "        for spot in testCase['spots']:\n",
    "            phi = 1.0 if testCase['isCall'] else -1.0\n",
    "            value, derivative = leveragedCertificate(1.0, 100.0, testCase['barrier'], phi, spot, 0.0, 0.0, 0.2)\n",
    "            numpy.testing.assert_almost_equal(value, phi * (spot - 100.0), 8)\n",
    "            numpy.testing.assert_almost_equal(derivative, phi, 8)\n",
    "\n",
    "testLeveragedCertificate()"
   ]
  }
 ],
 "metadata": {
  "kernelspec": {
   "display_name": "Python [Root]",
   "language": "python",
   "name": "Python [Root]"
  },
  "language_info": {
   "codemirror_mode": {
    "name": "ipython",
    "version": 2
   },
   "file_extension": ".py",
   "mimetype": "text/x-python",
   "name": "python",
   "nbconvert_exporter": "python",
   "pygments_lexer": "ipython2",
   "version": "2.7.12"
  }
 },
 "nbformat": 4,
 "nbformat_minor": 0
}
